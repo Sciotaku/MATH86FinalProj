{
 "cells": [
  {
   "cell_type": "code",
   "execution_count": 1,
   "metadata": {},
   "outputs": [
    {
     "name": "stderr",
     "output_type": "stream",
     "text": [
      "/Users/rahulgupta/anaconda3/lib/python3.10/site-packages/pandas/core/arrays/masked.py:60: UserWarning: Pandas requires version '1.3.6' or newer of 'bottleneck' (version '1.3.5' currently installed).\n",
      "  from pandas.core import (\n"
     ]
    }
   ],
   "source": [
    "import yfinance as yf\n",
    "import pandas as pd\n",
    "import numpy as np\n",
    "from datetime import datetime, timedelta\n",
    "from scipy.special import roots_legendre\n",
    "from matplotlib import pyplot as plt\n",
    "import math\n",
    "from math import log, exp, sqrt, pi\n",
    "from scipy.interpolate import interp1d\n",
    "from scipy.sparse import diags\n",
    "from scipy.sparse.linalg import spsolve"
   ]
  },
  {
   "cell_type": "code",
   "execution_count": null,
   "metadata": {},
   "outputs": [],
   "source": [
    "# -------------------------------\n",
    "# 1. Load Local Volatility Function (Fixed)\n",
    "# -------------------------------\n",
    "K_vals = np.array([3900, 4000, 4100, 4200, 4300])  # Strike Prices\n",
    "sigma_K = np.array([-10.0007, 81.9997, 125.0, 120.0, 116.0])  # Bad values\n",
    "\n",
    "# Fix negative and extreme values before interpolation\n",
    "sigma_K = np.clip(sigma_K, 0.05, 0.8)  # Enforce min 5%, max 80%\n",
    "\n",
    "# Interpolate sigma(K) to be used for all asset prices S\n",
    "local_vol_func = interp1d(K_vals, sigma_K, kind=\"cubic\", fill_value=\"extrapolate\")\n",
    "\n",
    "# -------------------------------\n",
    "# 2. Define Fokker–Planck Parameters\n",
    "# -------------------------------\n",
    "S_min, S_max = 3500, 4500  # Asset price range\n",
    "N_S = 100  # Number of asset price grid points\n",
    "S_vals = np.linspace(S_min, S_max, N_S)  # Discretized price grid\n",
    "dS = S_vals[1] - S_vals[0]  # Step size in asset price space\n",
    "\n",
    "T = 43 / 252  # Time to maturity in years\n",
    "N_T = 50  # Number of time steps\n",
    "dt = T / N_T  # Time step size\n",
    "r = 0.05  # Risk-free rate\n",
    "\n",
    "# -------------------------------\n",
    "# 3. Construct Crank–Nicholson Matrices\n",
    "# -------------------------------\n",
    "sigma_vals = local_vol_func(S_vals)  # Compute sigma(S) at each grid point\n",
    "\n",
    "# Ensure all vol values remain reasonable\n",
    "sigma_vals = np.clip(sigma_vals, 0.05, 0.8)\n",
    "\n",
    "alpha = (r / 2) * S_vals / dS  # Drift term\n",
    "beta = (sigma_vals**2 * S_vals**2) / (2 * dS**2)  # Diffusion term\n",
    "\n",
    "A_diag = -beta - alpha / 2\n",
    "B_diag = -beta + alpha / 2\n",
    "C_diag = 2 * beta + 1 / dt\n",
    "D_diag = -2 * beta + 1 / dt\n",
    "\n",
    "# Create sparse matrices\n",
    "A = diags([A_diag[1:], C_diag, B_diag[:-1]], [-1, 0, 1], format=\"csr\")  # Left matrix\n",
    "B = diags([-A_diag[1:], D_diag, -B_diag[:-1]], [-1, 0, 1], format=\"csr\")  # Right matrix\n",
    "\n",
    "# -------------------------------\n",
    "# 4. Initialize Probability Distribution\n",
    "# -------------------------------\n",
    "pdf = np.exp(-((S_vals - 4050) ** 2) / (2 * 200 ** 2))  # Gaussian initial guess\n",
    "pdf /= np.sum(pdf * dS)  # Normalize to ensure total probability is 1\n",
    "\n",
    "# -------------------------------\n",
    "# 5. Solve the Fokker–Planck PDE Using Crank–Nicholson\n",
    "# -------------------------------\n",
    "for _ in range(N_T):\n",
    "    b = B @ pdf  # Compute right-hand side\n",
    "    pdf = spsolve(A, b)  # Solve linear system\n",
    "\n",
    "# Normalize final probability distribution\n",
    "pdf /= np.sum(pdf * dS)\n",
    "\n",
    "# -------------------------------\n",
    "# 6. Plot the Final Implied Probability Distribution\n",
    "# -------------------------------\n",
    "plt.figure(figsize=(8, 5))\n",
    "plt.plot(S_vals, pdf, label=\"Implied Probability Distribution\")\n",
    "plt.xlabel(\"Stock Price (S)\")\n",
    "plt.ylabel(\"Probability Density\")\n",
    "plt.title(\"Implied Distribution from Fokker–Planck (Crank–Nicholson)\")\n",
    "plt.legend()\n",
    "plt.show()"
   ]
  }
 ],
 "metadata": {
  "kernelspec": {
   "display_name": "base",
   "language": "python",
   "name": "python3"
  },
  "language_info": {
   "codemirror_mode": {
    "name": "ipython",
    "version": 3
   },
   "file_extension": ".py",
   "mimetype": "text/x-python",
   "name": "python",
   "nbconvert_exporter": "python",
   "pygments_lexer": "ipython3",
   "version": "3.10.9"
  }
 },
 "nbformat": 4,
 "nbformat_minor": 2
}

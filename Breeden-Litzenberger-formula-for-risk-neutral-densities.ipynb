{
 "cells": [
  {
   "cell_type": "markdown",
   "metadata": {
    "id": "ocQw3lqg8bkU"
   },
   "source": [
    "# Breeden-Litzenberger formula for risk-neutral densities\n",
    "\n",
    "<b> YouTube Tutorial </b> (Published: Jun 6, 2022): https://youtu.be/O3LuuOnPW8U\n",
    "\n",
    "The Feynman–Kac analysis enables us to define a risk neutral probability in which we can price options. Let $f_\\mathbb{Q}(S_T)$ denote the terminal risk neutral ($\\mathbb{Q}$-measure) probability at time $T$ , and let $F_\\mathbb{Q}(S_T)$ denote the cumulative probability. A European call option at time $t$, expiring at $T$ , with strike price $K$, is priced ($\\tau = T - t$):\n",
    "\n",
    "$\\large C(K, \\tau) = \\large E_\\mathbb{Q}[e^{-r\\tau} (S_T - K)^+]$\n",
    "\n",
    "$\\large C(K, \\tau) = e^{-r\\tau} \\int^\\infty_K (S_T - K)f_\\mathbb{Q}(S_T)dS_T$\n",
    "\n",
    "In the case where $f_\\mathbb{Q}$ is the log-normal density and volatility is constant with respect to $K$, this yields the Black–Scholes formula.\n",
    "\n",
    "Under basic no-arbitrage restrictions, we can consider more general densities than the log-normal for the underlying. <b>Breeden and Litzenberger (1978)</b> show that the first derivative is a function of the cumulative distribution.\n",
    "\n",
    "$\\large \\frac{\\delta C}{\\delta K}|_{K=S_T} = -e^{-r\\tau}(1 - F_\\mathbb{Q}(S_T))$\n",
    "\n",
    "The second derivative then extracts the density\n",
    "\n",
    "$\\large \\frac{\\delta^2 C}{\\delta K^2}|_{K=S_T} = e^{-r\\tau}f _\\mathbb{Q}(S_T)$\n",
    "\n",
    "<b>References:</b>\n",
    "Bruce Mizrach, Chapter 35: Estimating Implied Probabilities from Option Prices and the Underlying\n",
    "http://econweb.rutgers.edu/mizrach/pubs/%5B42%5D-2010_Handbook.pdf\n",
    "https://www.repository.utl.pt/bitstream/10400.5/3372/1/Tese_andre_novo_4.0.pdf"
   ]
  },
  {
   "cell_type": "code",
   "execution_count": null,
   "metadata": {
    "colab": {
     "base_uri": "https://localhost:8080/"
    },
    "executionInfo": {
     "elapsed": 9211,
     "status": "ok",
     "timestamp": 1654484289098,
     "user": {
      "displayName": "QuantPy",
      "userId": "10266135053564542115"
     },
     "user_tz": -600
    },
    "id": "luKraA338mW7",
    "outputId": "1b0fd56c-2c2d-4fe4-ae09-02097883b926"
   },
   "outputs": [
    {
     "name": "stdout",
     "output_type": "stream",
     "text": [
      "Collecting QuantLib\n",
      "  Downloading QuantLib-1.37-cp38-abi3-macosx_11_0_arm64.whl.metadata (1.1 kB)\n",
      "Downloading QuantLib-1.37-cp38-abi3-macosx_11_0_arm64.whl (15.3 MB)\n",
      "\u001b[2K   \u001b[90m━━━━━━━━━━━━━━━━━━━━━━━━━━━━━━━━━━━━━━━━\u001b[0m \u001b[32m15.3/15.3 MB\u001b[0m \u001b[31m23.8 MB/s\u001b[0m eta \u001b[36m0:00:00\u001b[0m00:01\u001b[0m00:01\u001b[0m\n",
      "\u001b[?25hInstalling collected packages: QuantLib\n",
      "Successfully installed QuantLib-1.37\n",
      "\n",
      "\u001b[1m[\u001b[0m\u001b[34;49mnotice\u001b[0m\u001b[1;39;49m]\u001b[0m\u001b[39;49m A new release of pip is available: \u001b[0m\u001b[31;49m24.0\u001b[0m\u001b[39;49m -> \u001b[0m\u001b[32;49m25.0.1\u001b[0m\n",
      "\u001b[1m[\u001b[0m\u001b[34;49mnotice\u001b[0m\u001b[1;39;49m]\u001b[0m\u001b[39;49m To update, run: \u001b[0m\u001b[32;49mpip install --upgrade pip\u001b[0m\n"
     ]
    }
   ],
   "source": [
    "! pip install QuantLib"
   ]
  },
  {
   "cell_type": "code",
   "execution_count": 14,
   "metadata": {
    "id": "B0Ybmweo8bka"
   },
   "outputs": [],
   "source": [
    "import numpy as np\n",
    "import scipy as sc\n",
    "import pandas as pd\n",
    "from scipy import stats\n",
    "import matplotlib.pyplot as plt"
   ]
  },
  {
   "cell_type": "markdown",
   "metadata": {
    "id": "cq30SLRN8bkb"
   },
   "source": [
    "## European Call Option with Stochastic Volatility\n",
    "\n",
    "### Risk-Neutral Dynamics:\n",
    "\n",
    "Underlying process:\n",
    "$\\large dS_{t} = r S_{t} dt + \\sqrt{v_{t}} S_{t} dW^\\mathbb{Q}_{s,t}$\n",
    "\n",
    "Variance process:\n",
    "$\\large dv_{t} = \\kappa (\\theta - v_{t})dt + \\sigma \\sqrt{v_{t}} dW^\\mathbb{Q}_{v,t}$\n",
    "\n",
    "- $dW^\\mathbb{Q}_{S,t}$ Brownian motion of asset price \\\n",
    "- $dW^\\mathbb{Q}_{v,t}$ Brownian motion of asset's price variance \\\n",
    "- $\\rho^\\mathbb{Q}$ correlation between $dW^\\mathbb{Q}_{S,t}$ and $dW^\\mathbb{Q}_{v,t}$"
   ]
  },
  {
   "cell_type": "code",
   "execution_count": 15,
   "metadata": {
    "colab": {
     "base_uri": "https://localhost:8080/"
    },
    "executionInfo": {
     "elapsed": 448,
     "status": "ok",
     "timestamp": 1654484349800,
     "user": {
      "displayName": "QuantPy",
      "userId": "10266135053564542115"
     },
     "user_tz": -600
    },
    "id": "Hvk8nbbR8bkc",
    "outputId": "5e955fea-cf60-42af-cd4c-f9e3a3e49464"
   },
   "outputs": [
    {
     "data": {
      "text/plain": [
       "(0.24000000000000005, ' > ', 0.04000000000000001)"
      ]
     },
     "execution_count": 15,
     "metadata": {},
     "output_type": "execute_result"
    }
   ],
   "source": [
    "# Initialise parameters\n",
    "S0 = 100.0     # initial stock price\n",
    "K = 150.0      # strike price\n",
    "tau = 1.0        # time to maturity in years\n",
    "r = 0.06       # annual risk-free rate\n",
    "\n",
    "# Heston dependent parameters\n",
    "kappa = 3              # rate of mean reversion of variance under risk-neutral dynamics\n",
    "theta = 0.20**2        # long-term mean of variance under risk-neutral dynamics\n",
    "v0 = 0.20**2           # initial variance under risk-neutral dynamics\n",
    "rho = 0.98              # correlation between returns and variances under risk-neutral dynamics\n",
    "sigma = 0.2            # volatility of volatility\n",
    "lambd = 0              # risk premium of variance\n",
    "\n",
    "2*kappa*theta, ' > ',sigma**2"
   ]
  },
  {
   "cell_type": "markdown",
   "metadata": {},
   "source": [
    "## Breeden-Litzenberger Formula\n",
    "\n",
    "Let's determine the risk-neutral probability distribution function (pdf), $f _\\mathbb{Q}$.\n",
    "\n",
    "$\\large f _\\mathbb{Q}(K, \\tau) = e^{r \\tau} \\frac{\\partial^2C(K,\\tau)}{\\partial K^2}$\n",
    "\n",
    "Using a second-order finite difference approximation:\n",
    "\n",
    "$\\large f_\\mathbb{Q}(K, \\tau) \\approx e^{r\\tau} \\frac{C(K+\\Delta_K,\\tau) - 2C(K,\\tau) + C(K-\\Delta_K,\\tau)}{(\\Delta_K)^2}$\n",
    "\n",
    "---\n",
    "\n",
    "## Heston Model Characteristic Equation:\n",
    "\n",
    "$\\large C(S_0, K, v_0, \\tau) = \\frac{1}{2}(S_0 - K e^{-r \\tau}) + \\frac{1}{\\pi} \\int^\\infty_0 \\Re \\left[ e^{r\\tau} \\frac{\\varphi(\\phi-i)}{i\\phi K^{i\\phi}} - K\\frac{\\varphi(\\phi)}{i\\phi K^{i\\phi}} \\right] d\\phi$\n",
    "\n",
    "$\\varphi(X_0, K, v_0,\\tau, \\phi) = e^{r \\phi i \\tau} S^{i \\phi} \\left[\\frac{1 - g e^{d\\tau}}{1 - g}\\right]^{\\frac{-2a}{\\sigma^2}} \n",
    "\\exp\\left[\\frac{a \\tau}{\\sigma^2} (b_2 - \\rho\\sigma \\phi i + d) + \\frac{v_0}{\\sigma^2} (b_2 - \\rho\\sigma \\phi i + d) \\left(\\frac{1 - e^{d\\tau}}{1 - g e^{d\\tau}} \\right) \\right]$\n",
    "\n",
    "where:\n",
    "\n",
    "$d = \\sqrt{(\\rho\\sigma \\phi i - b)^2 + \\sigma^2 (\\phi i + \\phi^2)}$\n",
    "\n",
    "$g = \\frac{b - \\rho\\sigma \\phi i + d}{b - \\rho\\sigma \\phi i - d}$\n",
    "\n",
    "$a = \\kappa \\theta, \\quad b = \\kappa + \\lambda$\n",
    "\n",
    "References:\n",
    "- [Heston Model PDF](https://www.maths.univ-evry.fr/pages_perso/crepey/Finance/051111_mikh%20heston.pdf)\n",
    "- [Gatheral Notes](http://web.math.ku.dk/~rolf/teaching/ctff03/Gatheral.1.pdf)"
   ]
  },
  {
   "cell_type": "code",
   "execution_count": 22,
   "metadata": {
    "id": "E_xIU8qp8bke"
   },
   "outputs": [],
   "source": [
    "def heston_charfunc(phi, S0, v0, kappa, theta, sigma, rho, lambd, tau, r):\n",
    "\n",
    "    # constants\n",
    "    a = kappa*theta\n",
    "    b = kappa+lambd\n",
    "\n",
    "    # common terms w.r.t phi\n",
    "    rspi = rho*sigma*phi*1j\n",
    "\n",
    "    # define d parameter given phi and b\n",
    "    d = np.sqrt( (rspi - b)**2 + (phi*1j+phi**2)*sigma**2 )\n",
    "\n",
    "    # define g parameter given phi, b and d\n",
    "    g = (b-rspi+d)/(b-rspi-d)\n",
    "\n",
    "    # calculate characteristic function by components\n",
    "    exp1 = np.exp(r*phi*1j*tau)\n",
    "    term2 = S0**(phi*1j) * ( (1-g*np.exp(d*tau))/(1-g) )**(-2*a/sigma**2)\n",
    "    exp2 = np.exp(a*tau*(b-rspi+d)/sigma**2 + v0*(b-rspi+d)*( (1-np.exp(d*tau))/(1-g*np.exp(d*tau)) )/sigma**2)\n",
    "\n",
    "    return exp1*term2*exp2\n",
    "\n",
    "def heston_price_rec(S0, K, v0, kappa, theta, sigma, rho, lambd, tau, r):\n",
    "    args = (S0, v0, kappa, theta, sigma, rho, lambd, tau, r)\n",
    "\n",
    "    P, umax, N = 0, 100, 650\n",
    "    dphi=umax/N #dphi is width\n",
    "    for j in range(1,N):\n",
    "        # rectangular integration\n",
    "        phi = dphi * (2*j + 1)/2 # midpoint to calculate height\n",
    "        numerator = heston_charfunc(phi-1j,*args) - K * heston_charfunc(phi,*args)\n",
    "        denominator = 1j*phi*K**(1j*phi)\n",
    "\n",
    "        P += dphi * numerator/denominator\n",
    "\n",
    "    return np.real((S0 - K*np.exp(-r*tau))/2 + P/np.pi)"
   ]
  },
  {
   "cell_type": "code",
   "execution_count": 23,
   "metadata": {
    "colab": {
     "base_uri": "https://localhost:8080/"
    },
    "executionInfo": {
     "elapsed": 6,
     "status": "ok",
     "timestamp": 1654484353118,
     "user": {
      "displayName": "QuantPy",
      "userId": "10266135053564542115"
     },
     "user_tz": -600
    },
    "id": "uCbFl-8Y8bkf",
    "outputId": "dd506aa3-fe35-471a-c04c-356e96192f4b"
   },
   "outputs": [
    {
     "data": {
      "text/plain": [
       "array([43.38110025, 42.47370905, 41.56412889, 40.65242819, 39.73868535,\n",
       "       38.82299785, 37.90549465, 36.98635121, 36.06580642, 35.14417974,\n",
       "       34.22188713, 33.29945402, 32.37752416, 31.45686333, 30.53835753,\n",
       "       29.62300587, 28.71190847, 27.80625044, 26.90728262, 26.01630048,\n",
       "       25.13462206, 24.263566  , 23.40443041, 22.55847344, 21.72689584,\n",
       "       20.91082601, 20.11130757, 19.32928966, 18.56561981, 17.82103928,\n",
       "       17.0961806 , 16.39156727, 15.70761503, 15.04463486, 14.402837  ,\n",
       "       13.7823361 , 13.18315703, 12.6052413 , 12.04845378, 11.5125896 ,\n",
       "       10.99738112, 10.50250486, 10.02758814,  9.57221566,  9.13593557,\n",
       "        8.71826538,  8.31869739,  7.93670375,  7.57174112,  7.22325495,\n",
       "        6.89068336,  6.57346059,  6.27102012,  5.98279748,  5.70823264,\n",
       "        5.44677212,  5.1978709 ,  4.9609939 ,  4.73561736,  4.52122991,\n",
       "        4.3173335 ,  4.12344408,  3.93909216,  3.76382323,  3.597198  ,\n",
       "        3.4387926 ,  3.28819858,  3.14502294,  3.00888796,  2.87943107,\n",
       "        2.75630462,  2.63917555,  2.52772515,  2.42164863,  2.32065483,\n",
       "        2.22446576,  2.13281623,  2.04545339,  1.96213637,  1.88263577,\n",
       "        1.80673328,  1.73422127,  1.66490229,  1.59858872,  1.53510234,\n",
       "        1.47427391,  1.41594279,  1.35995656,  1.30617063,  1.2544479 ,\n",
       "        1.20465841,  1.15667898,  1.11039292,  1.06568967,  1.02246456,\n",
       "        0.98061846,  0.94005756,  0.90069305,  0.86244092,  0.82522169,\n",
       "        0.78896015,  0.75358522,  0.71902965,  0.68522988,  0.65212582,\n",
       "        0.61966069,  0.58778081,  0.55643548,  0.5255768 ,  0.49515952,\n",
       "        0.46514091,  0.43548061,  0.40614051,  0.37708465,  0.34827908,\n",
       "        0.31969176,  0.29129244,  0.26305261,  0.23494535,  0.2069453 ])"
      ]
     },
     "execution_count": 23,
     "metadata": {},
     "output_type": "execute_result"
    }
   ],
   "source": [
    "strikes = np.arange(60, 180, 1.0)\n",
    "option_prices = heston_price_rec(S0, strikes, v0, kappa, theta, sigma, rho, lambd, tau, r)\n",
    "\n",
    "option_prices"
   ]
  },
  {
   "cell_type": "markdown",
   "metadata": {
    "id": "Ulqf-Urx8bkg"
   },
   "source": [
    "Use 2nd order finite difference approximation:\n",
    "\n",
    "$\\large f_\\mathbb{Q}(K, \\tau) \\approx e^{r\\tau} \\frac{C(K+\\Delta_K,\\tau) - 2C(K,\\tau) + C(K-\\Delta_K,\\tau)}{(\\Delta_K)^2}$"
   ]
  },
  {
   "cell_type": "code",
   "execution_count": 24,
   "metadata": {
    "id": "Dsezq-dK8bkg"
   },
   "outputs": [],
   "source": [
    "prices = pd.DataFrame([strikes, option_prices]).transpose()\n",
    "prices.columns = ['strike', 'price']\n",
    "prices['curvature'] = (-2 * prices['price'] +\n",
    "                       prices['price'].shift(1) +\n",
    "                       prices['price'].shift(-1)) / 1**2"
   ]
  },
  {
   "cell_type": "code",
   "execution_count": 25,
   "metadata": {
    "colab": {
     "base_uri": "https://localhost:8080/",
     "height": 300
    },
    "executionInfo": {
     "elapsed": 646,
     "status": "ok",
     "timestamp": 1654484356475,
     "user": {
      "displayName": "QuantPy",
      "userId": "10266135053564542115"
     },
     "user_tz": -600
    },
    "id": "tPE9QUdh8bkh",
    "outputId": "2c8d5453-e862-4ec0-e677-ffc38d1ca2f6"
   },
   "outputs": [
    {
     "data": {
      "text/plain": [
       "Text(0.5, 1.0, 'Risk-neutral PDF, $f_\\\\mathbb{Q}(K, \\\\tau)$')"
      ]
     },
     "execution_count": 25,
     "metadata": {},
     "output_type": "execute_result"
    },
    {
     "data": {
      "image/png": "[encoded data removed]",
      "text/plain": [
       "<Figure size 640x480 with 2 Axes>"
      ]
     },
     "metadata": {},
     "output_type": "display_data"
    }
   ],
   "source": [
    "# And plotting...\n",
    "fig = plt.figure()\n",
    "ax = fig.add_subplot(111)\n",
    "plt.ylabel('Call Price ($)')\n",
    "ax2 = ax.twinx()\n",
    "\n",
    "ax.plot(strikes, option_prices, label='Option Prices')\n",
    "ax2.plot(prices['strike'], prices['curvature'], label='$d^2C/dK^2 (\\sim pdf)$', color='orange')\n",
    "\n",
    "ax.legend(loc=\"center right\")\n",
    "ax2.legend(loc=\"upper right\")\n",
    "plt.xlabel('Strikes (K)')\n",
    "plt.ylabel('$f_\\\\tau(K)$')\n",
    "plt.title('Risk-neutral PDF, $f_\\mathbb{Q}(K, \\\\tau)$')"
   ]
  },
  {
   "cell_type": "markdown",
   "metadata": {
    "id": "J2YHdy3z8bkh"
   },
   "source": [
    "## Let's compare with QuantLib Heston Model\n",
    "<b>References:</b>\n",
    "Stack Exchange Question, Computing the Probability Density Function (PDF) for the Heston model\n",
    "https://quant.stackexchange.com/questions/57827/computing-the-probability-density-function-pdf-for-the-heston-model"
   ]
  },
  {
   "cell_type": "code",
   "execution_count": 26,
   "metadata": {
    "colab": {
     "base_uri": "https://localhost:8080/",
     "height": 423
    },
    "executionInfo": {
     "elapsed": 989,
     "status": "ok",
     "timestamp": 1654484359402,
     "user": {
      "displayName": "QuantPy",
      "userId": "10266135053564542115"
     },
     "user_tz": -600
    },
    "id": "W_A1fl7m8bki",
    "outputId": "fa979fe6-c376-450e-e361-b0fcf7156263"
   },
   "outputs": [
    {
     "data": {
      "text/plain": [
       "Text(0.5, 1.0, 'QuantLib: Risk-neutral PDF, $f_\\\\mathbb{Q}(K, \\\\tau)$')"
      ]
     },
     "execution_count": 26,
     "metadata": {},
     "output_type": "execute_result"
    },
    {
     "data": {
      "image/png": "[encoded data removed]",
      "text/plain": [
       "<Figure size 1000x600 with 2 Axes>"
      ]
     },
     "metadata": {},
     "output_type": "display_data"
    }
   ],
   "source": [
    "import QuantLib as ql\n",
    "today = ql.Date(28, 5, 2022)\n",
    "expiry_date = today + ql.Period(int(365*tau), ql.Days)\n",
    "\n",
    "# Setting up discount curve\n",
    "risk_free_curve = ql.FlatForward(today, r, ql.Actual365Fixed())\n",
    "flat_curve = ql.FlatForward(today, 0.0, ql.Actual365Fixed())\n",
    "riskfree_ts = ql.YieldTermStructureHandle(risk_free_curve)\n",
    "dividend_ts = ql.YieldTermStructureHandle(flat_curve)\n",
    "\n",
    "# Setting up a Heston model\n",
    "heston_process = ql.HestonProcess(riskfree_ts, dividend_ts, ql.QuoteHandle(ql.SimpleQuote(S0)), v0, kappa, theta, sigma, rho)\n",
    "heston_model = ql.HestonModel(heston_process)\n",
    "heston_handle = ql.HestonModelHandle(heston_model)\n",
    "heston_vol_surface = ql.HestonBlackVolSurface(heston_handle)\n",
    "\n",
    "# Now doing some pricing and curvature calculations\n",
    "vols = [heston_vol_surface.blackVol(tau, x) for x in strikes]\n",
    "\n",
    "option_prices1 = []\n",
    "for strike in strikes:\n",
    "    option = ql.EuropeanOption( ql.PlainVanillaPayoff(ql.Option.Call, strike), ql.EuropeanExercise(expiry_date))\n",
    "\n",
    "    heston_engine = ql.AnalyticHestonEngine(heston_model)\n",
    "    option.setPricingEngine(heston_engine)\n",
    "\n",
    "    option_prices1.append(option.NPV())\n",
    "\n",
    "prices = pd.DataFrame([strikes, option_prices, option_prices1]).transpose()\n",
    "prices.columns = ['strike', 'Rectangular Int','QuantLib']\n",
    "prices['curvature'] = (-2 * prices['QuantLib'] + prices['QuantLib'].shift(1) + prices['QuantLib'].shift(-1)) / 1**2\n",
    "\n",
    "# And plotting...\n",
    "fig = plt.figure(figsize=(10,6))\n",
    "ax = fig.add_subplot(111)\n",
    "plt.ylabel('Call Price ($)')\n",
    "plt.xlabel('Strikes (K)')\n",
    "ax2 = ax.twinx()\n",
    "lns1 = ax.plot(strikes, option_prices1, label='Option Prices')\n",
    "lns2 = ax2.plot(prices['strike'], prices['curvature'], label='$d^2C/dK^2 (\\sim pdf)$', color='orange')\n",
    "ax2.fill_between(prices['strike'], prices['curvature'], color='yellow', alpha=0.2)\n",
    "\n",
    "# added these three lines\n",
    "lns = lns1+lns2\n",
    "labs = [l.get_label() for l in lns]\n",
    "ax.legend(lns, labs, loc=0)\n",
    "\n",
    "# ax.legend(loc=\"center right\")\n",
    "# ax2.legend(loc=\"upper right\")\n",
    "plt.ylabel('$f_\\\\tau(K)$')\n",
    "plt.title('QuantLib: Risk-neutral PDF, $f_\\mathbb{Q}(K, \\\\tau)$')"
   ]
  },
  {
   "cell_type": "markdown",
   "metadata": {
    "id": "0aX51WmR8bkj",
    "tags": []
   },
   "source": [
    "## What are the differences? - and why"
   ]
  },
  {
   "cell_type": "code",
   "execution_count": 10,
   "metadata": {
    "colab": {
     "base_uri": "https://localhost:8080/",
     "height": 1000
    },
    "executionInfo": {
     "elapsed": 8,
     "status": "ok",
     "timestamp": 1654484361170,
     "user": {
      "displayName": "QuantPy",
      "userId": "10266135053564542115"
     },
     "user_tz": -600
    },
    "id": "B-x00gqo8bkj",
    "outputId": "0e4a8245-c6c8-4fbe-80e7-773a64048009"
   },
   "outputs": [
    {
     "name": "stdout",
     "output_type": "stream",
     "text": [
      "QuantLib vs. Our Rect Int \n",
      "   Mean Squared Error:  272.1303263184467\n"
     ]
    },
    {
     "data": {
      "text/html": [
       "<div>\n",
       "<style scoped>\n",
       "    .dataframe tbody tr th:only-of-type {\n",
       "        vertical-align: middle;\n",
       "    }\n",
       "\n",
       "    .dataframe tbody tr th {\n",
       "        vertical-align: top;\n",
       "    }\n",
       "\n",
       "    .dataframe thead th {\n",
       "        text-align: right;\n",
       "    }\n",
       "</style>\n",
       "<table border=\"1\" class=\"dataframe\">\n",
       "  <thead>\n",
       "    <tr style=\"text-align: right;\">\n",
       "      <th></th>\n",
       "      <th>strike</th>\n",
       "      <th>Rectangular Int</th>\n",
       "      <th>QuantLib</th>\n",
       "      <th>curvature</th>\n",
       "    </tr>\n",
       "  </thead>\n",
       "  <tbody>\n",
       "    <tr>\n",
       "      <th>0</th>\n",
       "      <td>60.0</td>\n",
       "      <td>43.381100</td>\n",
       "      <td>0.0</td>\n",
       "      <td>NaN</td>\n",
       "    </tr>\n",
       "    <tr>\n",
       "      <th>1</th>\n",
       "      <td>61.0</td>\n",
       "      <td>42.473709</td>\n",
       "      <td>0.0</td>\n",
       "      <td>0.0</td>\n",
       "    </tr>\n",
       "    <tr>\n",
       "      <th>2</th>\n",
       "      <td>62.0</td>\n",
       "      <td>41.564129</td>\n",
       "      <td>0.0</td>\n",
       "      <td>0.0</td>\n",
       "    </tr>\n",
       "    <tr>\n",
       "      <th>3</th>\n",
       "      <td>63.0</td>\n",
       "      <td>40.652428</td>\n",
       "      <td>0.0</td>\n",
       "      <td>0.0</td>\n",
       "    </tr>\n",
       "    <tr>\n",
       "      <th>4</th>\n",
       "      <td>64.0</td>\n",
       "      <td>39.738685</td>\n",
       "      <td>0.0</td>\n",
       "      <td>0.0</td>\n",
       "    </tr>\n",
       "    <tr>\n",
       "      <th>5</th>\n",
       "      <td>65.0</td>\n",
       "      <td>38.822998</td>\n",
       "      <td>0.0</td>\n",
       "      <td>0.0</td>\n",
       "    </tr>\n",
       "    <tr>\n",
       "      <th>6</th>\n",
       "      <td>66.0</td>\n",
       "      <td>37.905495</td>\n",
       "      <td>0.0</td>\n",
       "      <td>0.0</td>\n",
       "    </tr>\n",
       "    <tr>\n",
       "      <th>7</th>\n",
       "      <td>67.0</td>\n",
       "      <td>36.986351</td>\n",
       "      <td>0.0</td>\n",
       "      <td>0.0</td>\n",
       "    </tr>\n",
       "    <tr>\n",
       "      <th>8</th>\n",
       "      <td>68.0</td>\n",
       "      <td>36.065806</td>\n",
       "      <td>0.0</td>\n",
       "      <td>0.0</td>\n",
       "    </tr>\n",
       "    <tr>\n",
       "      <th>9</th>\n",
       "      <td>69.0</td>\n",
       "      <td>35.144180</td>\n",
       "      <td>0.0</td>\n",
       "      <td>0.0</td>\n",
       "    </tr>\n",
       "    <tr>\n",
       "      <th>10</th>\n",
       "      <td>70.0</td>\n",
       "      <td>34.221887</td>\n",
       "      <td>0.0</td>\n",
       "      <td>0.0</td>\n",
       "    </tr>\n",
       "    <tr>\n",
       "      <th>11</th>\n",
       "      <td>71.0</td>\n",
       "      <td>33.299454</td>\n",
       "      <td>0.0</td>\n",
       "      <td>0.0</td>\n",
       "    </tr>\n",
       "    <tr>\n",
       "      <th>12</th>\n",
       "      <td>72.0</td>\n",
       "      <td>32.377524</td>\n",
       "      <td>0.0</td>\n",
       "      <td>0.0</td>\n",
       "    </tr>\n",
       "    <tr>\n",
       "      <th>13</th>\n",
       "      <td>73.0</td>\n",
       "      <td>31.456863</td>\n",
       "      <td>0.0</td>\n",
       "      <td>0.0</td>\n",
       "    </tr>\n",
       "    <tr>\n",
       "      <th>14</th>\n",
       "      <td>74.0</td>\n",
       "      <td>30.538358</td>\n",
       "      <td>0.0</td>\n",
       "      <td>0.0</td>\n",
       "    </tr>\n",
       "    <tr>\n",
       "      <th>15</th>\n",
       "      <td>75.0</td>\n",
       "      <td>29.623006</td>\n",
       "      <td>0.0</td>\n",
       "      <td>0.0</td>\n",
       "    </tr>\n",
       "    <tr>\n",
       "      <th>16</th>\n",
       "      <td>76.0</td>\n",
       "      <td>28.711908</td>\n",
       "      <td>0.0</td>\n",
       "      <td>0.0</td>\n",
       "    </tr>\n",
       "    <tr>\n",
       "      <th>17</th>\n",
       "      <td>77.0</td>\n",
       "      <td>27.806250</td>\n",
       "      <td>0.0</td>\n",
       "      <td>0.0</td>\n",
       "    </tr>\n",
       "    <tr>\n",
       "      <th>18</th>\n",
       "      <td>78.0</td>\n",
       "      <td>26.907283</td>\n",
       "      <td>0.0</td>\n",
       "      <td>0.0</td>\n",
       "    </tr>\n",
       "    <tr>\n",
       "      <th>19</th>\n",
       "      <td>79.0</td>\n",
       "      <td>26.016300</td>\n",
       "      <td>0.0</td>\n",
       "      <td>0.0</td>\n",
       "    </tr>\n",
       "    <tr>\n",
       "      <th>20</th>\n",
       "      <td>80.0</td>\n",
       "      <td>25.134622</td>\n",
       "      <td>0.0</td>\n",
       "      <td>0.0</td>\n",
       "    </tr>\n",
       "    <tr>\n",
       "      <th>21</th>\n",
       "      <td>81.0</td>\n",
       "      <td>24.263566</td>\n",
       "      <td>0.0</td>\n",
       "      <td>0.0</td>\n",
       "    </tr>\n",
       "    <tr>\n",
       "      <th>22</th>\n",
       "      <td>82.0</td>\n",
       "      <td>23.404430</td>\n",
       "      <td>0.0</td>\n",
       "      <td>0.0</td>\n",
       "    </tr>\n",
       "    <tr>\n",
       "      <th>23</th>\n",
       "      <td>83.0</td>\n",
       "      <td>22.558473</td>\n",
       "      <td>0.0</td>\n",
       "      <td>0.0</td>\n",
       "    </tr>\n",
       "    <tr>\n",
       "      <th>24</th>\n",
       "      <td>84.0</td>\n",
       "      <td>21.726896</td>\n",
       "      <td>0.0</td>\n",
       "      <td>0.0</td>\n",
       "    </tr>\n",
       "    <tr>\n",
       "      <th>25</th>\n",
       "      <td>85.0</td>\n",
       "      <td>20.910826</td>\n",
       "      <td>0.0</td>\n",
       "      <td>0.0</td>\n",
       "    </tr>\n",
       "    <tr>\n",
       "      <th>26</th>\n",
       "      <td>86.0</td>\n",
       "      <td>20.111308</td>\n",
       "      <td>0.0</td>\n",
       "      <td>0.0</td>\n",
       "    </tr>\n",
       "    <tr>\n",
       "      <th>27</th>\n",
       "      <td>87.0</td>\n",
       "      <td>19.329290</td>\n",
       "      <td>0.0</td>\n",
       "      <td>0.0</td>\n",
       "    </tr>\n",
       "    <tr>\n",
       "      <th>28</th>\n",
       "      <td>88.0</td>\n",
       "      <td>18.565620</td>\n",
       "      <td>0.0</td>\n",
       "      <td>0.0</td>\n",
       "    </tr>\n",
       "    <tr>\n",
       "      <th>29</th>\n",
       "      <td>89.0</td>\n",
       "      <td>17.821039</td>\n",
       "      <td>0.0</td>\n",
       "      <td>0.0</td>\n",
       "    </tr>\n",
       "    <tr>\n",
       "      <th>30</th>\n",
       "      <td>90.0</td>\n",
       "      <td>17.096181</td>\n",
       "      <td>0.0</td>\n",
       "      <td>0.0</td>\n",
       "    </tr>\n",
       "    <tr>\n",
       "      <th>31</th>\n",
       "      <td>91.0</td>\n",
       "      <td>16.391567</td>\n",
       "      <td>0.0</td>\n",
       "      <td>0.0</td>\n",
       "    </tr>\n",
       "    <tr>\n",
       "      <th>32</th>\n",
       "      <td>92.0</td>\n",
       "      <td>15.707615</td>\n",
       "      <td>0.0</td>\n",
       "      <td>0.0</td>\n",
       "    </tr>\n",
       "    <tr>\n",
       "      <th>33</th>\n",
       "      <td>93.0</td>\n",
       "      <td>15.044635</td>\n",
       "      <td>0.0</td>\n",
       "      <td>0.0</td>\n",
       "    </tr>\n",
       "    <tr>\n",
       "      <th>34</th>\n",
       "      <td>94.0</td>\n",
       "      <td>14.402837</td>\n",
       "      <td>0.0</td>\n",
       "      <td>0.0</td>\n",
       "    </tr>\n",
       "    <tr>\n",
       "      <th>35</th>\n",
       "      <td>95.0</td>\n",
       "      <td>13.782336</td>\n",
       "      <td>0.0</td>\n",
       "      <td>0.0</td>\n",
       "    </tr>\n",
       "    <tr>\n",
       "      <th>36</th>\n",
       "      <td>96.0</td>\n",
       "      <td>13.183157</td>\n",
       "      <td>0.0</td>\n",
       "      <td>0.0</td>\n",
       "    </tr>\n",
       "    <tr>\n",
       "      <th>37</th>\n",
       "      <td>97.0</td>\n",
       "      <td>12.605241</td>\n",
       "      <td>0.0</td>\n",
       "      <td>0.0</td>\n",
       "    </tr>\n",
       "    <tr>\n",
       "      <th>38</th>\n",
       "      <td>98.0</td>\n",
       "      <td>12.048454</td>\n",
       "      <td>0.0</td>\n",
       "      <td>0.0</td>\n",
       "    </tr>\n",
       "    <tr>\n",
       "      <th>39</th>\n",
       "      <td>99.0</td>\n",
       "      <td>11.512590</td>\n",
       "      <td>0.0</td>\n",
       "      <td>0.0</td>\n",
       "    </tr>\n",
       "  </tbody>\n",
       "</table>\n",
       "</div>"
      ],
      "text/plain": [
       "    strike  Rectangular Int  QuantLib  curvature\n",
       "0     60.0        43.381100       0.0        NaN\n",
       "1     61.0        42.473709       0.0        0.0\n",
       "2     62.0        41.564129       0.0        0.0\n",
       "3     63.0        40.652428       0.0        0.0\n",
       "4     64.0        39.738685       0.0        0.0\n",
       "5     65.0        38.822998       0.0        0.0\n",
       "6     66.0        37.905495       0.0        0.0\n",
       "7     67.0        36.986351       0.0        0.0\n",
       "8     68.0        36.065806       0.0        0.0\n",
       "9     69.0        35.144180       0.0        0.0\n",
       "10    70.0        34.221887       0.0        0.0\n",
       "11    71.0        33.299454       0.0        0.0\n",
       "12    72.0        32.377524       0.0        0.0\n",
       "13    73.0        31.456863       0.0        0.0\n",
       "14    74.0        30.538358       0.0        0.0\n",
       "15    75.0        29.623006       0.0        0.0\n",
       "16    76.0        28.711908       0.0        0.0\n",
       "17    77.0        27.806250       0.0        0.0\n",
       "18    78.0        26.907283       0.0        0.0\n",
       "19    79.0        26.016300       0.0        0.0\n",
       "20    80.0        25.134622       0.0        0.0\n",
       "21    81.0        24.263566       0.0        0.0\n",
       "22    82.0        23.404430       0.0        0.0\n",
       "23    83.0        22.558473       0.0        0.0\n",
       "24    84.0        21.726896       0.0        0.0\n",
       "25    85.0        20.910826       0.0        0.0\n",
       "26    86.0        20.111308       0.0        0.0\n",
       "27    87.0        19.329290       0.0        0.0\n",
       "28    88.0        18.565620       0.0        0.0\n",
       "29    89.0        17.821039       0.0        0.0\n",
       "30    90.0        17.096181       0.0        0.0\n",
       "31    91.0        16.391567       0.0        0.0\n",
       "32    92.0        15.707615       0.0        0.0\n",
       "33    93.0        15.044635       0.0        0.0\n",
       "34    94.0        14.402837       0.0        0.0\n",
       "35    95.0        13.782336       0.0        0.0\n",
       "36    96.0        13.183157       0.0        0.0\n",
       "37    97.0        12.605241       0.0        0.0\n",
       "38    98.0        12.048454       0.0        0.0\n",
       "39    99.0        11.512590       0.0        0.0"
      ]
     },
     "execution_count": 10,
     "metadata": {},
     "output_type": "execute_result"
    }
   ],
   "source": [
    "mse = np.mean( (option_prices - option_prices1)**2 )\n",
    "print(\"QuantLib vs. Our Rect Int \\n   Mean Squared Error: \", mse)\n",
    "prices.dropna()\n",
    "prices.head(40)"
   ]
  },
  {
   "cell_type": "markdown",
   "metadata": {
    "id": "cCEqIWQa8bkk"
   },
   "source": [
    "The differences are mainly a result of the method of complex integration over very small increments.\n",
    "Python has issues with round off errors at small values approximated by binary floating-point numbers.\n",
    "\n",
    "https://stackoverflow.com/questions/15930381/python-round-off-error\n",
    "\n",
    "https://docs.python.org/3/tutorial/floatingpoint.html"
   ]
  },
  {
   "cell_type": "code",
   "execution_count": 11,
   "metadata": {
    "id": "uGAbwPP88bkk"
   },
   "outputs": [],
   "source": [
    "inter = prices.dropna()"
   ]
  },
  {
   "cell_type": "code",
   "execution_count": 12,
   "metadata": {
    "colab": {
     "base_uri": "https://localhost:8080/",
     "height": 297
    },
    "executionInfo": {
     "elapsed": 693,
     "status": "ok",
     "timestamp": 1654484363007,
     "user": {
      "displayName": "QuantPy",
      "userId": "10266135053564542115"
     },
     "user_tz": -600
    },
    "id": "0Hmb7lbs8bkk",
    "outputId": "8447a1bf-9ac1-4f77-c18f-4eee95a402d5"
   },
   "outputs": [
    {
     "data": {
      "image/png": "[encoded data removed]",
      "text/plain": [
       "<Figure size 640x480 with 1 Axes>"
      ]
     },
     "metadata": {},
     "output_type": "display_data"
    }
   ],
   "source": [
    "pdf = sc.interpolate.interp1d(inter.strike, np.exp(r*tau)*inter.curvature, kind = 'linear')\n",
    "pdfc = sc.interpolate.interp1d(inter.strike, np.exp(r*tau)*inter.curvature, kind = 'cubic')\n",
    "\n",
    "strikes = np.arange(61, 179, 1.0)\n",
    "\n",
    "plt.plot(strikes, pdfc(strikes), '-+', label='cubic')\n",
    "plt.plot(strikes, pdf(strikes), label='linear')\n",
    "plt.fill_between(strikes, pdf(strikes), color='yellow', alpha=0.2)\n",
    "plt.xlabel('Strikes (K)')\n",
    "plt.ylabel('$f_\\\\tau(K)$')\n",
    "plt.title('Risk-neutral PDF: $f_\\mathbb{Q}(K, \\\\tau)$')\n",
    "plt.legend()\n",
    "plt.show()"
   ]
  },
  {
   "cell_type": "markdown",
   "metadata": {
    "id": "27kGOqt38bkl"
   },
   "source": [
    "### Cumulative distribution function"
   ]
  },
  {
   "cell_type": "code",
   "execution_count": 13,
   "metadata": {
    "colab": {
     "base_uri": "https://localhost:8080/",
     "height": 314
    },
    "executionInfo": {
     "elapsed": 668,
     "status": "ok",
     "timestamp": 1654484365687,
     "user": {
      "displayName": "QuantPy",
      "userId": "10266135053564542115"
     },
     "user_tz": -600
    },
    "id": "a0TyWvCS8bkl",
    "outputId": "34a13575-b6c6-467a-a121-3fce33bf8b53"
   },
   "outputs": [
    {
     "data": {
      "text/plain": [
       "Text(0.5, 1.0, 'Risk-neutral CDF: $F_\\\\mathbb{Q}(K, \\\\tau)$')"
      ]
     },
     "execution_count": 13,
     "metadata": {},
     "output_type": "execute_result"
    },
    {
     "data": {
      "image/png": "[encoded data removed]",
      "text/plain": [
       "<Figure size 640x480 with 1 Axes>"
      ]
     },
     "metadata": {},
     "output_type": "display_data"
    }
   ],
   "source": [
    "cdf = sc.interpolate.interp1d(inter.strike, np.cumsum(pdf(strikes)), kind = 'linear')\n",
    "\n",
    "plt.plot(strikes, cdf(strikes))\n",
    "\n",
    "plt.xlabel('Strikes (K)')\n",
    "plt.ylabel('$F_\\\\tau(K)$')\n",
    "plt.title('Risk-neutral CDF: $F_\\mathbb{Q}(K, \\\\tau)$')"
   ]
  },
  {
   "cell_type": "markdown",
   "metadata": {
    "id": "G3825zu98bkl"
   },
   "source": [
    "## Using the Risk-neutral PDF to price 'complex' derivatives\n",
    "\n",
    "Remember the RND function $f^{\\tau}_\\mathbb{Q}(S_T)$ is defined at a particular time to expiry $\\tau$\n",
    "\n",
    "### Call\n",
    "$\\large C(K, \\tau) = e^{-r\\tau} \\int^\\infty_K (S_T - K)f^{\\tau}_\\mathbb{Q}(S_T)dS_T$\n",
    "\n",
    "### Put\n",
    "$\\large P(K, \\tau) = e^{-r\\tau} \\int^K_{-\\infty} (K - S_T)f^{\\tau}_\\mathbb{Q}(S_T)dS_T$"
   ]
  },
  {
   "cell_type": "markdown",
   "metadata": {
    "id": "Op9zPDCy8bkm"
   },
   "source": [
    "http://econweb.rutgers.edu/mizrach/pubs/%5B42%5D-2010_Handbook.pdf"
   ]
  },
  {
   "cell_type": "code",
   "execution_count": null,
   "metadata": {
    "colab": {
     "base_uri": "https://localhost:8080/"
    },
    "executionInfo": {
     "elapsed": 25856,
     "status": "ok",
     "timestamp": 1654484394253,
     "user": {
      "displayName": "QuantPy",
      "userId": "10266135053564542115"
     },
     "user_tz": -600
    },
    "id": "_WKD2jsm8bkm",
    "outputId": "76565e2c-e2d4-4e08-f73a-7fa210df7cf4"
   },
   "outputs": [
    {
     "name": "stderr",
     "output_type": "stream",
     "text": [
      "/usr/local/lib/python3.7/dist-packages/ipykernel_launcher.py:10: IntegrationWarning: The occurrence of roundoff error is detected, which prevents \n",
      "  the requested tolerance from being achieved.  The error may be \n",
      "  underestimated.\n",
      "  # Remove the CWD from sys.path while we load stuff.\n",
      "/usr/local/lib/python3.7/dist-packages/ipykernel_launcher.py:13: IntegrationWarning: The occurrence of roundoff error is detected, which prevents \n",
      "  the requested tolerance from being achieved.  The error may be \n",
      "  underestimated.\n",
      "  del sys.path[0]\n"
     ]
    }
   ],
   "source": [
    "def integrand_call(x, K):\n",
    "        return (x-K)*pdf(x)\n",
    "\n",
    "def integrand_put(x, K):\n",
    "        return (K-x)*pdf(x)\n",
    "\n",
    "calls, puts = [], []\n",
    "for K in strikes:\n",
    "    # integral from K to infinity (looking at CDF, 179 last defined value on range)\n",
    "    call_int, err = sc.integrate.quad(integrand_call, K, 178, limit=1000, args=K)\n",
    "\n",
    "    # integral from -infinity to K (looking at CDF, 61 lowest defined value on range)\n",
    "    put_int, err = sc.integrate.quad(integrand_put, 61, K, limit=1000, args=K)\n",
    "\n",
    "    call = np.exp(-r*tau)*call_int\n",
    "    calls.append( call )\n",
    "\n",
    "    put = np.exp(-r*tau)*put_int\n",
    "    puts.append( put )"
   ]
  },
  {
   "cell_type": "code",
   "execution_count": null,
   "metadata": {
    "colab": {
     "base_uri": "https://localhost:8080/",
     "height": 206
    },
    "executionInfo": {
     "elapsed": 32,
     "status": "ok",
     "timestamp": 1654484394256,
     "user": {
      "displayName": "QuantPy",
      "userId": "10266135053564542115"
     },
     "user_tz": -600
    },
    "id": "R5li3jQg8bkm",
    "outputId": "1679b596-8acf-4a20-b327-d3c419efc188"
   },
   "outputs": [
    {
     "data": {
      "text/html": [
       "\n",
       "  <div id=\"df-95a43c10-129d-4fd5-8316-f2cdfd64cc4f\">\n",
       "    <div class=\"colab-df-container\">\n",
       "      <div>\n",
       "<style scoped>\n",
       "    .dataframe tbody tr th:only-of-type {\n",
       "        vertical-align: middle;\n",
       "    }\n",
       "\n",
       "    .dataframe tbody tr th {\n",
       "        vertical-align: top;\n",
       "    }\n",
       "\n",
       "    .dataframe thead th {\n",
       "        text-align: right;\n",
       "    }\n",
       "</style>\n",
       "<table border=\"1\" class=\"dataframe\">\n",
       "  <thead>\n",
       "    <tr style=\"text-align: right;\">\n",
       "      <th></th>\n",
       "      <th>strike</th>\n",
       "      <th>Calls</th>\n",
       "      <th>Puts</th>\n",
       "    </tr>\n",
       "  </thead>\n",
       "  <tbody>\n",
       "    <tr>\n",
       "      <th>113</th>\n",
       "      <td>174.0</td>\n",
       "      <td>0.004409</td>\n",
       "      <td>64.141695</td>\n",
       "    </tr>\n",
       "    <tr>\n",
       "      <th>114</th>\n",
       "      <td>175.0</td>\n",
       "      <td>0.002437</td>\n",
       "      <td>65.070985</td>\n",
       "    </tr>\n",
       "    <tr>\n",
       "      <th>115</th>\n",
       "      <td>176.0</td>\n",
       "      <td>0.001064</td>\n",
       "      <td>66.000836</td>\n",
       "    </tr>\n",
       "    <tr>\n",
       "      <th>116</th>\n",
       "      <td>177.0</td>\n",
       "      <td>0.000261</td>\n",
       "      <td>66.931232</td>\n",
       "    </tr>\n",
       "    <tr>\n",
       "      <th>117</th>\n",
       "      <td>178.0</td>\n",
       "      <td>0.000000</td>\n",
       "      <td>67.862238</td>\n",
       "    </tr>\n",
       "  </tbody>\n",
       "</table>\n",
       "</div>\n",
       "      <button class=\"colab-df-convert\" onclick=\"convertToInteractive('df-95a43c10-129d-4fd5-8316-f2cdfd64cc4f')\"\n",
       "              title=\"Convert this dataframe to an interactive table.\"\n",
       "              style=\"display:none;\">\n",
       "        \n",
       "  <svg xmlns=\"http://www.w3.org/2000/svg\" height=\"24px\"viewBox=\"0 0 24 24\"\n",
       "       width=\"24px\">\n",
       "    <path d=\"M0 0h24v24H0V0z\" fill=\"none\"/>\n",
       "    <path d=\"M18.56 5.44l.94 2.06.94-2.06 2.06-.94-2.06-.94-.94-2.06-.94 2.06-2.06.94zm-11 1L8.5 8.5l.94-2.06 2.06-.94-2.06-.94L8.5 2.5l-.94 2.06-2.06.94zm10 10l.94 2.06.94-2.06 2.06-.94-2.06-.94-.94-2.06-.94 2.06-2.06.94z\"/><path d=\"M17.41 7.96l-1.37-1.37c-.4-.4-.92-.59-1.43-.59-.52 0-1.04.2-1.43.59L10.3 9.45l-7.72 7.72c-.78.78-.78 2.05 0 2.83L4 21.41c.39.39.9.59 1.41.59.51 0 1.02-.2 1.41-.59l7.78-7.78 2.81-2.81c.8-.78.8-2.07 0-2.86zM5.41 20L4 18.59l7.72-7.72 1.47 1.35L5.41 20z\"/>\n",
       "  </svg>\n",
       "      </button>\n",
       "      \n",
       "  <style>\n",
       "    .colab-df-container {\n",
       "      display:flex;\n",
       "      flex-wrap:wrap;\n",
       "      gap: 12px;\n",
       "    }\n",
       "\n",
       "    .colab-df-convert {\n",
       "      background-color: #E8F0FE;\n",
       "      border: none;\n",
       "      border-radius: 50%;\n",
       "      cursor: pointer;\n",
       "      display: none;\n",
       "      fill: #1967D2;\n",
       "      height: 32px;\n",
       "      padding: 0 0 0 0;\n",
       "      width: 32px;\n",
       "    }\n",
       "\n",
       "    .colab-df-convert:hover {\n",
       "      background-color: #E2EBFA;\n",
       "      box-shadow: 0px 1px 2px rgba(60, 64, 67, 0.3), 0px 1px 3px 1px rgba(60, 64, 67, 0.15);\n",
       "      fill: #174EA6;\n",
       "    }\n",
       "\n",
       "    [theme=dark] .colab-df-convert {\n",
       "      background-color: #3B4455;\n",
       "      fill: #D2E3FC;\n",
       "    }\n",
       "\n",
       "    [theme=dark] .colab-df-convert:hover {\n",
       "      background-color: #434B5C;\n",
       "      box-shadow: 0px 1px 3px 1px rgba(0, 0, 0, 0.15);\n",
       "      filter: drop-shadow(0px 1px 2px rgba(0, 0, 0, 0.3));\n",
       "      fill: #FFFFFF;\n",
       "    }\n",
       "  </style>\n",
       "\n",
       "      <script>\n",
       "        const buttonEl =\n",
       "          document.querySelector('#df-95a43c10-129d-4fd5-8316-f2cdfd64cc4f button.colab-df-convert');\n",
       "        buttonEl.style.display =\n",
       "          google.colab.kernel.accessAllowed ? 'block' : 'none';\n",
       "\n",
       "        async function convertToInteractive(key) {\n",
       "          const element = document.querySelector('#df-95a43c10-129d-4fd5-8316-f2cdfd64cc4f');\n",
       "          const dataTable =\n",
       "            await google.colab.kernel.invokeFunction('convertToInteractive',\n",
       "                                                     [key], {});\n",
       "          if (!dataTable) return;\n",
       "\n",
       "          const docLinkHtml = 'Like what you see? Visit the ' +\n",
       "            '<a target=\"_blank\" href=https://colab.research.google.com/notebooks/data_table.ipynb>data table notebook</a>'\n",
       "            + ' to learn more about interactive tables.';\n",
       "          element.innerHTML = '';\n",
       "          dataTable['output_type'] = 'display_data';\n",
       "          await google.colab.output.renderOutput(dataTable, element);\n",
       "          const docLink = document.createElement('div');\n",
       "          docLink.innerHTML = docLinkHtml;\n",
       "          element.appendChild(docLink);\n",
       "        }\n",
       "      </script>\n",
       "    </div>\n",
       "  </div>\n",
       "  "
      ],
      "text/plain": [
       "     strike     Calls       Puts\n",
       "113   174.0  0.004409  64.141695\n",
       "114   175.0  0.002437  65.070985\n",
       "115   176.0  0.001064  66.000836\n",
       "116   177.0  0.000261  66.931232\n",
       "117   178.0  0.000000  67.862238"
      ]
     },
     "execution_count": 14,
     "metadata": {},
     "output_type": "execute_result"
    }
   ],
   "source": [
    "rnd_prices = pd.DataFrame([strikes, calls, puts]).transpose()\n",
    "rnd_prices.columns = ['strike', 'Calls','Puts']\n",
    "rnd_prices.tail()"
   ]
  }
 ],
 "metadata": {
  "colab": {
   "provenance": []
  },
  "kernelspec": {
   "display_name": "base",
   "language": "python",
   "name": "python3"
  },
  "language_info": {
   "codemirror_mode": {
    "name": "ipython",
    "version": 3
   },
   "file_extension": ".py",
   "mimetype": "text/x-python",
   "name": "python",
   "nbconvert_exporter": "python",
   "pygments_lexer": "ipython3",
   "version": "3.10.9"
  }
 },
 "nbformat": 4,
 "nbformat_minor": 0
}

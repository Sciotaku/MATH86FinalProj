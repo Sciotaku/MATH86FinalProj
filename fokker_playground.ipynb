{
 "cells": [
  {
   "cell_type": "code",
   "execution_count": null,
   "metadata": {},
   "outputs": [
    {
     "ename": "TypeError",
     "evalue": "fokker_planck.__init__() missing 4 required keyword-only arguments: 'temperature', 'drag', 'extent', and 'resolution'",
     "output_type": "error",
     "traceback": [
      "\u001b[31m---------------------------------------------------------------------------\u001b[39m",
      "\u001b[31mTypeError\u001b[39m                                 Traceback (most recent call last)",
      "\u001b[36mCell\u001b[39m\u001b[36m \u001b[39m\u001b[32mIn[1]\u001b[39m\u001b[32m, line 8\u001b[39m\n\u001b[32m      1\u001b[39m \u001b[38;5;28;01mimport\u001b[39;00m\u001b[38;5;250m \u001b[39m\u001b[34;01mfplanck\u001b[39;00m\u001b[38;5;250m \u001b[39m\u001b[38;5;28;01mas\u001b[39;00m\u001b[38;5;250m \u001b[39m\u001b[34;01mfp\u001b[39;00m\n\u001b[32m      4\u001b[39m \u001b[38;5;66;03m# I think:\u001b[39;00m\n\u001b[32m      5\u001b[39m \u001b[38;5;66;03m# vol = temperature\u001b[39;00m\n\u001b[32m      6\u001b[39m \u001b[38;5;66;03m# drag = interest rate? or smthing?\u001b[39;00m\n\u001b[32m----> \u001b[39m\u001b[32m8\u001b[39m fokker = \u001b[43mfp\u001b[49m\u001b[43m.\u001b[49m\u001b[43mfokker_planck\u001b[49m\u001b[43m(\u001b[49m\u001b[43m)\u001b[49m\n",
      "\u001b[31mTypeError\u001b[39m: fokker_planck.__init__() missing 4 required keyword-only arguments: 'temperature', 'drag', 'extent', and 'resolution'"
     ]
    }
   ],
   "source": [
    "import fplanck as fp\n",
    "\n",
    "\n",
    "# I think:\n",
    "# vol = temperature\n",
    "# drag = interest rate? or smthing?\n",
    "# extent = range of price fluctuation?\n",
    "# resolution = idk fine graineed-nes\n",
    "\n",
    "fokker = fp.fokker_planck()"
   ]
  },
  {
   "cell_type": "code",
   "execution_count": null,
   "metadata": {},
   "outputs": [],
   "source": []
  }
 ],
 "metadata": {
  "kernelspec": {
   "display_name": "venv",
   "language": "python",
   "name": "python3"
  },
  "language_info": {
   "codemirror_mode": {
    "name": "ipython",
    "version": 3
   },
   "file_extension": ".py",
   "mimetype": "text/x-python",
   "name": "python",
   "nbconvert_exporter": "python",
   "pygments_lexer": "ipython3",
   "version": "3.12.3"
  }
 },
 "nbformat": 4,
 "nbformat_minor": 2
}

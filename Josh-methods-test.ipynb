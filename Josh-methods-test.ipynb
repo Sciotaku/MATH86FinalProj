{
 "cells": [
  {
   "cell_type": "markdown",
   "metadata": {},
   "source": [
    "Testing the methods.py file"
   ]
  },
  {
   "cell_type": "code",
   "execution_count": 4,
   "metadata": {},
   "outputs": [
    {
     "ename": "TypeError",
     "evalue": "'>' not supported between instances of 'int' and 'Local_Black_Scholes'",
     "output_type": "error",
     "traceback": [
      "\u001b[31m---------------------------------------------------------------------------\u001b[39m",
      "\u001b[31mTypeError\u001b[39m                                 Traceback (most recent call last)",
      "\u001b[36mCell\u001b[39m\u001b[36m \u001b[39m\u001b[32mIn[4]\u001b[39m\u001b[32m, line 8\u001b[39m\n\u001b[32m      5\u001b[39m bs = Local_Black_Scholes()\n\u001b[32m      6\u001b[39m local_vol = \u001b[38;5;28;01mlambda\u001b[39;00m x: x\n\u001b[32m----> \u001b[39m\u001b[32m8\u001b[39m options_price = \u001b[43mbs\u001b[49m\u001b[43m.\u001b[49m\u001b[43mblack_scholes_local_vol\u001b[49m\u001b[43m(\u001b[49m\u001b[32;43m100\u001b[39;49m\u001b[43m,\u001b[49m\u001b[43m \u001b[49m\u001b[32;43m100\u001b[39;49m\u001b[43m,\u001b[49m\u001b[43m \u001b[49m\u001b[32;43m1\u001b[39;49m\u001b[43m,\u001b[49m\u001b[43m \u001b[49m\u001b[32;43m0.05\u001b[39;49m\u001b[43m,\u001b[49m\u001b[43m \u001b[49m\u001b[43mlocal_vol\u001b[49m\u001b[43m)\u001b[49m\n\u001b[32m      9\u001b[39m \u001b[38;5;28mprint\u001b[39m(options_price)\n\u001b[32m     10\u001b[39m \u001b[38;5;66;03m# get_option_prices(100, 1, 0.05, sigma_func, strike_range=[0,301])\u001b[39;00m\n\u001b[32m     11\u001b[39m \n\u001b[32m     12\u001b[39m \n\u001b[32m     13\u001b[39m \u001b[38;5;66;03m# vol_arr = \u001b[39;00m\n\u001b[32m     14\u001b[39m \u001b[38;5;66;03m# result = fokker_planck(vol_arr, time_to_expiry, r, num_steps=50, )\u001b[39;00m\n",
      "\u001b[36mFile \u001b[39m\u001b[32m~/Documents/GitHub/MATH86FinalProj/methods.py:113\u001b[39m, in \u001b[36mLocal_Black_Scholes.black_scholes_local_vol\u001b[39m\u001b[34m(S0, K, T, r, local_vol, option_type, num_S_steps, num_t_steps)\u001b[39m\n\u001b[32m     95\u001b[39m \u001b[38;5;250m\u001b[39m\u001b[33;03m\"\"\"\u001b[39;00m\n\u001b[32m     96\u001b[39m \u001b[33;03mBlack-Scholes with price-dependent volatility using finite difference method\u001b[39;00m\n\u001b[32m     97\u001b[39m \u001b[33;03m\u001b[39;00m\n\u001b[32m   (...)\u001b[39m\u001b[32m    110\u001b[39m \u001b[33;03mfloat - Option price\u001b[39;00m\n\u001b[32m    111\u001b[39m \u001b[33;03m\"\"\"\u001b[39;00m\n\u001b[32m    112\u001b[39m \u001b[38;5;66;03m# Set up the grid boundaries\u001b[39;00m\n\u001b[32m--> \u001b[39m\u001b[32m113\u001b[39m S_max = \u001b[38;5;28;43mmax\u001b[39;49m\u001b[43m(\u001b[49m\u001b[43mS0\u001b[49m\u001b[43m,\u001b[49m\u001b[43m \u001b[49m\u001b[43mK\u001b[49m\u001b[43m)\u001b[49m * \u001b[32m3\u001b[39m\n\u001b[32m    114\u001b[39m S_min = \u001b[38;5;28mmax\u001b[39m(\u001b[32m0.01\u001b[39m, S0 / \u001b[32m3\u001b[39m)\n\u001b[32m    116\u001b[39m \u001b[38;5;66;03m# Create grid of stock prices and time steps\u001b[39;00m\n",
      "\u001b[31mTypeError\u001b[39m: '>' not supported between instances of 'int' and 'Local_Black_Scholes'"
     ]
    }
   ],
   "source": [
    "from methods import *\n",
    "import numpy as np\n",
    "\n",
    "\n",
    "bs = Local_Black_Scholes()\n",
    "local_vol = lambda x: x\n",
    "\n",
    "options_price = bs.black_scholes_local_vol(100, 100, 1, 0.05, local_vol)\n",
    "print(options_price)\n",
    "# get_option_prices(100, 1, 0.05, sigma_func, strike_range=[0,301])\n",
    "\n",
    "\n",
    "# vol_arr = \n",
    "# result = fokker_planck(vol_arr, time_to_expiry, r, num_steps=50, )"
   ]
  }
 ],
 "metadata": {
  "kernelspec": {
   "display_name": "venv",
   "language": "python",
   "name": "python3"
  },
  "language_info": {
   "codemirror_mode": {
    "name": "ipython",
    "version": 3
   },
   "file_extension": ".py",
   "mimetype": "text/x-python",
   "name": "python",
   "nbconvert_exporter": "python",
   "pygments_lexer": "ipython3",
   "version": "3.12.3"
  }
 },
 "nbformat": 4,
 "nbformat_minor": 2
}

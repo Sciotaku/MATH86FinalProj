{
 "cells": [
  {
   "cell_type": "markdown",
   "metadata": {},
   "source": [
    "Testing the methods.py file"
   ]
  },
  {
   "cell_type": "code",
   "execution_count": 2,
   "metadata": {},
   "outputs": [
    {
     "ename": "TypeError",
     "evalue": "float() argument must be a string or a real number, not 'function'",
     "output_type": "error",
     "traceback": [
      "\u001b[31m---------------------------------------------------------------------------\u001b[39m",
      "\u001b[31mTypeError\u001b[39m                                 Traceback (most recent call last)",
      "\u001b[36mCell\u001b[39m\u001b[36m \u001b[39m\u001b[32mIn[2]\u001b[39m\u001b[32m, line 14\u001b[39m\n\u001b[32m     11\u001b[39m \u001b[38;5;28;01mfor\u001b[39;00m S0 \u001b[38;5;129;01min\u001b[39;00m \u001b[38;5;28mrange\u001b[39m(\u001b[32m100\u001b[39m):\n\u001b[32m     12\u001b[39m   \u001b[38;5;28;01mfor\u001b[39;00m K \u001b[38;5;129;01min\u001b[39;00m \u001b[38;5;28mrange\u001b[39m(\u001b[32m100\u001b[39m):\n\u001b[32m     13\u001b[39m     \u001b[38;5;66;03m# options_price = bs.black_scholes_local_vol(S0, K, 1, 0.05, local_vol)\u001b[39;00m\n\u001b[32m---> \u001b[39m\u001b[32m14\u001b[39m     options_price = \u001b[43mbs\u001b[49m\u001b[43m.\u001b[49m\u001b[43mchatgpt_price\u001b[49m\u001b[43m(\u001b[49m\u001b[43mS0\u001b[49m\u001b[43m,\u001b[49m\u001b[43m \u001b[49m\u001b[43mK\u001b[49m\u001b[43m,\u001b[49m\u001b[43m \u001b[49m\u001b[43mr\u001b[49m\u001b[43m,\u001b[49m\u001b[43m \u001b[49m\u001b[43mT\u001b[49m\u001b[43m,\u001b[49m\u001b[43m \u001b[49m\u001b[43mlocal_vol\u001b[49m\u001b[43m,\u001b[49m\u001b[43m)\u001b[49m\n\u001b[32m     16\u001b[39m     \u001b[38;5;28mprint\u001b[39m(options_price)\n",
      "\u001b[36mFile \u001b[39m\u001b[32m~/Documents/GitHub/MATH86FinalProj/methods.py:172\u001b[39m, in \u001b[36mLocal_Black_Scholes.chatgpt_price\u001b[39m\u001b[34m(S0, K, T, r, sigma_func, S_max, M, N, option_type)\u001b[39m\n\u001b[32m    170\u001b[39m \u001b[38;5;28;01mif\u001b[39;00m S_max \u001b[38;5;129;01mis\u001b[39;00m \u001b[38;5;28;01mNone\u001b[39;00m:\n\u001b[32m    171\u001b[39m     S_max = \u001b[32m3\u001b[39m * \u001b[38;5;28mmax\u001b[39m(S0, K)\n\u001b[32m--> \u001b[39m\u001b[32m172\u001b[39m S_max = \u001b[38;5;28;43mfloat\u001b[39;49m\u001b[43m(\u001b[49m\u001b[43mS_max\u001b[49m\u001b[43m)\u001b[49m\n\u001b[32m    173\u001b[39m M = \u001b[38;5;28mint\u001b[39m(M); N = \u001b[38;5;28mint\u001b[39m(N)\n\u001b[32m    174\u001b[39m dS = S_max / M                        \u001b[38;5;66;03m# price grid size\u001b[39;00m\n",
      "\u001b[31mTypeError\u001b[39m: float() argument must be a string or a real number, not 'function'"
     ]
    }
   ],
   "source": [
    "from methods import *\n",
    "import numpy as np\n",
    "\n",
    "\n",
    "bs = Local_Black_Scholes()\n",
    "# local_vol = lambda x: x\n",
    "local_vol = lambda S: 0.2 * (1 + 0.1 * np.abs(np.log(S/K)))\n",
    "r= 0.05\n",
    "T= 1.0\n",
    "\n",
    "for S0 in range(100):\n",
    "  for K in range(100):\n",
    "    # options_price = bs.black_scholes_local_vol(S0, K, 1, 0.05, local_vol)\n",
    "    options_price = bs.chatgpt_price(S0, K, r, T, local_vol,)\n",
    "\n",
    "    print(options_price)\n"
   ]
  },
  {
   "cell_type": "code",
   "execution_count": null,
   "metadata": {},
   "outputs": [],
   "source": []
  }
 ],
 "metadata": {
  "kernelspec": {
   "display_name": "venv",
   "language": "python",
   "name": "python3"
  },
  "language_info": {
   "codemirror_mode": {
    "name": "ipython",
    "version": 3
   },
   "file_extension": ".py",
   "mimetype": "text/x-python",
   "name": "python",
   "nbconvert_exporter": "python",
   "pygments_lexer": "ipython3",
   "version": "3.12.3"
  }
 },
 "nbformat": 4,
 "nbformat_minor": 2
}
